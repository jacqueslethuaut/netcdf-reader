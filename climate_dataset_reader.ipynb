{
  "nbformat": 4,
  "nbformat_minor": 0,
  "metadata": {
    "colab": {
      "provenance": [],
      "authorship_tag": "ABX9TyMe49juRwB1qDcr5jyA9x0x",
      "include_colab_link": true
    },
    "kernelspec": {
      "name": "python3",
      "display_name": "Python 3"
    },
    "language_info": {
      "name": "python"
    }
  },
  "cells": [
    {
      "cell_type": "markdown",
      "metadata": {
        "id": "view-in-github",
        "colab_type": "text"
      },
      "source": [
        "<a href=\"https://colab.research.google.com/github/jacqueslethuaut/netcdf-reader/blob/main/climate_dataset_reader.ipynb\" target=\"_parent\"><img src=\"https://colab.research.google.com/assets/colab-badge.svg\" alt=\"Open In Colab\"/></a>"
      ]
    },
    {
      "cell_type": "code",
      "source": [
        "!pip install xarray h5netcdf fsspec\n"
      ],
      "metadata": {
        "colab": {
          "base_uri": "https://localhost:8080/"
        },
        "id": "yLupLERu_I-Z",
        "outputId": "3af44134-cfe4-4f28-96d4-a28b354b83db"
      },
      "execution_count": 1,
      "outputs": [
        {
          "output_type": "stream",
          "name": "stdout",
          "text": [
            "Requirement already satisfied: xarray in /usr/local/lib/python3.10/dist-packages (2023.7.0)\n",
            "Requirement already satisfied: h5netcdf in /usr/local/lib/python3.10/dist-packages (1.3.0)\n",
            "Requirement already satisfied: fsspec in /usr/local/lib/python3.10/dist-packages (2023.6.0)\n",
            "Requirement already satisfied: numpy>=1.21 in /usr/local/lib/python3.10/dist-packages (from xarray) (1.23.5)\n",
            "Requirement already satisfied: pandas>=1.4 in /usr/local/lib/python3.10/dist-packages (from xarray) (1.5.3)\n",
            "Requirement already satisfied: packaging>=21.3 in /usr/local/lib/python3.10/dist-packages (from xarray) (23.2)\n",
            "Requirement already satisfied: h5py in /usr/local/lib/python3.10/dist-packages (from h5netcdf) (3.9.0)\n",
            "Requirement already satisfied: python-dateutil>=2.8.1 in /usr/local/lib/python3.10/dist-packages (from pandas>=1.4->xarray) (2.8.2)\n",
            "Requirement already satisfied: pytz>=2020.1 in /usr/local/lib/python3.10/dist-packages (from pandas>=1.4->xarray) (2023.3.post1)\n",
            "Requirement already satisfied: six>=1.5 in /usr/local/lib/python3.10/dist-packages (from python-dateutil>=2.8.1->pandas>=1.4->xarray) (1.16.0)\n"
          ]
        }
      ]
    },
    {
      "cell_type": "code",
      "source": [
        "import os\n",
        "import requests\n",
        "import xarray as xr\n",
        "import matplotlib.pyplot as plt\n"
      ],
      "metadata": {
        "id": "jfGxqAS-AFtj"
      },
      "execution_count": 13,
      "outputs": []
    },
    {
      "cell_type": "code",
      "source": [
        "def download_and_cache_file(url, cache_dir='cache'):\n",
        "    \"\"\"\n",
        "    Download a file and cache it locally.\n",
        "    \"\"\"\n",
        "    os.makedirs(cache_dir, exist_ok=True)\n",
        "\n",
        "    filename = url.split('/')[-1]\n",
        "    local_filepath = os.path.join(cache_dir, filename)\n",
        "\n",
        "    if not os.path.exists(local_filepath):\n",
        "        with requests.get(url, stream=True) as r:\n",
        "            r.raise_for_status()\n",
        "            with open(local_filepath, 'wb') as f:\n",
        "                for chunk in r.iter_content(chunk_size=8192):\n",
        "                    f.write(chunk)\n",
        "\n",
        "    return local_filepath"
      ],
      "metadata": {
        "id": "y_CKQqtYBAyl"
      },
      "execution_count": 3,
      "outputs": []
    },
    {
      "cell_type": "code",
      "execution_count": 4,
      "metadata": {
        "id": "csfwxTFd9xWf"
      },
      "outputs": [],
      "source": [
        "url = 'https://www.ncei.noaa.gov/pub/data/nidis/indices/nclimgrid-monthly/base-files/nclimgrid-prcp.nc'"
      ]
    },
    {
      "cell_type": "code",
      "source": [
        "local_file = download_and_cache_file(url)\n",
        "\n",
        "dataset = xr.open_dataset(local_file, chunks={'time': 10})\n",
        "\n",
        "print(dataset)"
      ],
      "metadata": {
        "colab": {
          "base_uri": "https://localhost:8080/"
        },
        "id": "Za0N9ajx994Y",
        "outputId": "00813dbb-8679-469f-f86f-c970e19f59df"
      },
      "execution_count": 5,
      "outputs": [
        {
          "output_type": "stream",
          "name": "stdout",
          "text": [
            "<xarray.Dataset>\n",
            "Dimensions:  (time: 1546, lat: 596, lon: 1385)\n",
            "Coordinates:\n",
            "  * time     (time) datetime64[ns] 1895-01-01 1895-02-01 ... 2023-10-01\n",
            "  * lat      (lat) float32 24.56 24.6 24.65 24.69 ... 49.23 49.27 49.31 49.35\n",
            "  * lon      (lon) float32 -124.7 -124.6 -124.6 -124.6 ... -67.1 -67.06 -67.02\n",
            "Data variables:\n",
            "    prcp     (time, lat, lon) float32 dask.array<chunksize=(10, 596, 1385), meta=np.ndarray>\n",
            "Attributes: (12/14)\n",
            "    date_created:              2023-01-04 04:00:15.550593\n",
            "    date_modified:             2023-01-04 04:00:15.550762\n",
            "    Conventions:               CF-1.6, ACDD-1.3\n",
            "    ncei_template_version:     NCEI_NetCDF_Grid_Template_v2.0\n",
            "    title:                     nClimGrid\n",
            "    naming_authority:          gov.noaa.ncei\n",
            "    ...                        ...\n",
            "    geospatial_lat_min:        24.5625\n",
            "    geospatial_lat_max:        49.354168\n",
            "    geospatial_lon_min:        -124.6875\n",
            "    geospatial_lon_max:        -67.020836\n",
            "    geospatial_lat_units:      degrees_north\n",
            "    geospatial_lon_units:      degrees_east\n"
          ]
        }
      ]
    },
    {
      "cell_type": "code",
      "source": [
        "print(dataset.variables)"
      ],
      "metadata": {
        "colab": {
          "base_uri": "https://localhost:8080/"
        },
        "id": "zTR9L8jgB_bp",
        "outputId": "6951ada3-2798-4d3d-c4fe-c908f488d8ba"
      },
      "execution_count": 6,
      "outputs": [
        {
          "output_type": "stream",
          "name": "stdout",
          "text": [
            "Frozen({'time': <xarray.IndexVariable 'time' (time: 1546)>\n",
            "array(['1895-01-01T00:00:00.000000000', '1895-02-01T00:00:00.000000000',\n",
            "       '1895-03-01T00:00:00.000000000', ..., '2023-08-01T00:00:00.000000000',\n",
            "       '2023-09-01T00:00:00.000000000', '2023-10-01T00:00:00.000000000'],\n",
            "      dtype='datetime64[ns]')\n",
            "Attributes:\n",
            "    long_name:      Time, in monthly increments\n",
            "    standard_name:  time\n",
            "    axis:           T, 'lat': <xarray.IndexVariable 'lat' (lat: 596)>\n",
            "array([24.5625  , 24.604166, 24.645834, ..., 49.270832, 49.3125  , 49.354168],\n",
            "      dtype=float32)\n",
            "Attributes:\n",
            "    standard_name:  latitude\n",
            "    long_name:      Latitude\n",
            "    units:          degrees_north\n",
            "    axis:           Y\n",
            "    valid_min:      24.5625\n",
            "    valid_max:      49.354168, 'lon': <xarray.IndexVariable 'lon' (lon: 1385)>\n",
            "array([-124.6875  , -124.645836, -124.604164, ...,  -67.104164,  -67.0625  ,\n",
            "        -67.020836], dtype=float32)\n",
            "Attributes:\n",
            "    standard_name:  longitude\n",
            "    long_name:      Longitude\n",
            "    units:          degrees_east\n",
            "    axis:           X\n",
            "    valid_min:      -124.6875\n",
            "    valid_max:      -67.020836, 'prcp': <xarray.Variable (time: 1546, lat: 596, lon: 1385)>\n",
            "dask.array<open_dataset-prcp, shape=(1546, 596, 1385), dtype=float32, chunksize=(10, 596, 1385), chunktype=numpy.ndarray>\n",
            "Attributes:\n",
            "    references:     GHCN-Monthly Version 3 (Vose et al. 2011), NCEI/NOAA, htt...\n",
            "    long_name:      Precipitation, monthly total\n",
            "    standard_name:  precipitation_amount\n",
            "    units:          millimeter\n",
            "    valid_min:      0.0\n",
            "    valid_max:      2000.0})\n"
          ]
        }
      ]
    },
    {
      "cell_type": "code",
      "source": [
        "nombre_de_variables = len(dataset.variables)\n",
        "print(\"Nombre de variables :\", nombre_de_variables)"
      ],
      "metadata": {
        "colab": {
          "base_uri": "https://localhost:8080/"
        },
        "id": "up7lEa0fCusG",
        "outputId": "0ca19049-fad0-4ee9-be8f-e826342ffca4"
      },
      "execution_count": 7,
      "outputs": [
        {
          "output_type": "stream",
          "name": "stdout",
          "text": [
            "Nombre de variables : 4\n"
          ]
        }
      ]
    },
    {
      "cell_type": "code",
      "source": [
        "prcp_2020 = dataset['prcp'].sel(time=slice('2020-01-01', '2020-12-31'))\n",
        "\n",
        "print(prcp_2020)\n",
        "\n",
        "prcp_2020.mean(dim=['lat', 'lon']).plot()\n",
        "plt.title('Moyenne mensuelle des précipitations pour 2020')\n",
        "plt.show()"
      ],
      "metadata": {
        "colab": {
          "base_uri": "https://localhost:8080/",
          "height": 720
        },
        "id": "K8dSg_SzFhU1",
        "outputId": "b2c24403-cb0e-447f-d468-a53e23e15ef0"
      },
      "execution_count": 14,
      "outputs": [
        {
          "output_type": "stream",
          "name": "stdout",
          "text": [
            "<xarray.DataArray 'prcp' (time: 12, lat: 596, lon: 1385)>\n",
            "dask.array<getitem, shape=(12, 596, 1385), dtype=float32, chunksize=(10, 596, 1385), chunktype=numpy.ndarray>\n",
            "Coordinates:\n",
            "  * time     (time) datetime64[ns] 2020-01-01 2020-02-01 ... 2020-12-01\n",
            "  * lat      (lat) float32 24.56 24.6 24.65 24.69 ... 49.23 49.27 49.31 49.35\n",
            "  * lon      (lon) float32 -124.7 -124.6 -124.6 -124.6 ... -67.1 -67.06 -67.02\n",
            "Attributes:\n",
            "    references:     GHCN-Monthly Version 3 (Vose et al. 2011), NCEI/NOAA, htt...\n",
            "    long_name:      Precipitation, monthly total\n",
            "    standard_name:  precipitation_amount\n",
            "    units:          millimeter\n",
            "    valid_min:      0.0\n",
            "    valid_max:      2000.0\n"
          ]
        },
        {
          "output_type": "display_data",
          "data": {
            "text/plain": [
              "<Figure size 640x480 with 1 Axes>"
            ],
            "image/png": "[encoded data removed]"
          },
          "metadata": {}
        }
      ]
    },
    {
      "cell_type": "code",
      "source": [
        "nombre_nan_prcp_2020 = prcp_2020.isnull().sum().values\n",
        "print(f\"Nombre de NaN dans la variable 'prcp' pour 2020 : {nombre_nan_prcp_2020}\")"
      ],
      "metadata": {
        "colab": {
          "base_uri": "https://localhost:8080/"
        },
        "id": "87LNnvH6G9Ac",
        "outputId": "32435598-f463-4b4e-9b20-ba3eab1c51aa"
      },
      "execution_count": 18,
      "outputs": [
        {
          "output_type": "stream",
          "name": "stdout",
          "text": [
            "Nombre de NaN dans la variable 'prcp' pour 2020 : 4268424\n"
          ]
        }
      ]
    },
    {
      "cell_type": "code",
      "source": [
        "df_time = dataset['time'].to_dataframe()\n",
        "print(df_time.head())"
      ],
      "metadata": {
        "colab": {
          "base_uri": "https://localhost:8080/"
        },
        "id": "OP82QugJBp4f",
        "outputId": "e9c3387f-8483-43b7-e915-c57a208d2d56"
      },
      "execution_count": 8,
      "outputs": [
        {
          "output_type": "stream",
          "name": "stdout",
          "text": [
            "                 time\n",
            "time                 \n",
            "1895-01-01 1895-01-01\n",
            "1895-02-01 1895-02-01\n",
            "1895-03-01 1895-03-01\n",
            "1895-04-01 1895-04-01\n",
            "1895-05-01 1895-05-01\n"
          ]
        }
      ]
    },
    {
      "cell_type": "code",
      "source": [
        "df_lat = dataset['lat'].to_dataframe()\n",
        "print(df_lat.head())"
      ],
      "metadata": {
        "colab": {
          "base_uri": "https://localhost:8080/"
        },
        "id": "UpQJYWkYDYIg",
        "outputId": "aa4308ee-5744-423c-fb18-b161ed9ab280"
      },
      "execution_count": 9,
      "outputs": [
        {
          "output_type": "stream",
          "name": "stdout",
          "text": [
            "                 lat\n",
            "lat                 \n",
            "24.562500  24.562500\n",
            "24.604166  24.604166\n",
            "24.645834  24.645834\n",
            "24.687500  24.687500\n",
            "24.729166  24.729166\n"
          ]
        }
      ]
    },
    {
      "cell_type": "code",
      "source": [
        "df_lon = dataset['lon'].to_dataframe()\n",
        "print(df_lon.head())"
      ],
      "metadata": {
        "colab": {
          "base_uri": "https://localhost:8080/"
        },
        "id": "WCeNkucbDavH",
        "outputId": "fea33fa1-684d-48ad-aa29-ccec6a40e1a7"
      },
      "execution_count": 10,
      "outputs": [
        {
          "output_type": "stream",
          "name": "stdout",
          "text": [
            "                    lon\n",
            "lon                    \n",
            "-124.687500 -124.687500\n",
            "-124.645836 -124.645836\n",
            "-124.604164 -124.604164\n",
            "-124.562500 -124.562500\n",
            "-124.520836 -124.520836\n"
          ]
        }
      ]
    },
    {
      "cell_type": "code",
      "source": [
        "subset_prcp = dataset['prcp'].sel(time='2020').load()\n",
        "\n",
        "df_subset_prcp = subset_prcp.to_dataframe()\n",
        "\n",
        "print(df_subset_prcp.head())\n"
      ],
      "metadata": {
        "colab": {
          "base_uri": "https://localhost:8080/"
        },
        "id": "U9MNeUjlDdK_",
        "outputId": "293de12e-c31e-44ee-dbf4-ba0747296240"
      },
      "execution_count": 15,
      "outputs": [
        {
          "output_type": "stream",
          "name": "stdout",
          "text": [
            "                                prcp\n",
            "time       lat     lon              \n",
            "2020-01-01 24.5625 -124.687500   NaN\n",
            "                   -124.645836   NaN\n",
            "                   -124.604164   NaN\n",
            "                   -124.562500   NaN\n",
            "                   -124.520836   NaN\n"
          ]
        }
      ]
    },
    {
      "cell_type": "code",
      "source": [
        "nombre_nan_total = df_subset_prcp.isna().sum().sum()\n",
        "nombre_nan_par_colonne = df_subset_prcp.isna().sum()\n",
        "\n",
        "print(nombre_nan_total, nombre_nan_par_colonne)"
      ],
      "metadata": {
        "colab": {
          "base_uri": "https://localhost:8080/"
        },
        "id": "zu9K4SGNF_jR",
        "outputId": "1733729f-de15-4d9a-c177-b14e41108fda"
      },
      "execution_count": 17,
      "outputs": [
        {
          "output_type": "stream",
          "name": "stdout",
          "text": [
            "4268424 prcp    4268424\n",
            "dtype: int64\n"
          ]
        }
      ]
    },
    {
      "cell_type": "code",
      "source": [
        "prcp_2020_mean = prcp_2020.mean(dim=['lat', 'lon'])\n",
        "prcp_2020_mean.plot(label='Moyenne NetCDF', color='blue', alpha=0.5)\n",
        "\n",
        "# Convertir les données sélectionnées en DataFrame et visualiser\n",
        "df_prcp_2020 = prcp_2020.to_dataframe().reset_index()\n",
        "df_prcp_2020_mean = df_prcp_2020.groupby('time').mean()\n",
        "plt.plot(df_prcp_2020_mean.index, df_prcp_2020_mean['prcp'], label='Moyenne DataFrame', color='red', alpha=0.5)\n",
        "\n",
        "# Configuration du graphique\n",
        "plt.title('Comparaison des Moyennes de Précipitations pour 2020')\n",
        "plt.xlabel('Temps')\n",
        "plt.ylabel('Précipitations (mm)')\n",
        "plt.legend()\n",
        "plt.show()"
      ],
      "metadata": {
        "colab": {
          "base_uri": "https://localhost:8080/",
          "height": 499
        },
        "id": "4RlrEEUMHlDg",
        "outputId": "646ec61d-526c-426e-ff9a-0cee9c93a66e"
      },
      "execution_count": 20,
      "outputs": [
        {
          "output_type": "display_data",
          "data": {
            "text/plain": [
              "<Figure size 640x480 with 1 Axes>"
            ],
            "image/png": "[encoded data removed]"
          },
          "metadata": {}
        }
      ]
    },
    {
      "cell_type": "code",
      "source": [
        "df_prcp_2020.describe().T"
      ],
      "metadata": {
        "colab": {
          "base_uri": "https://localhost:8080/",
          "height": 142
        },
        "id": "qD_LI05YIkaA",
        "outputId": "f822b094-1c1c-45b2-9506-6ab22349a47a"
      },
      "execution_count": 22,
      "outputs": [
        {
          "output_type": "execute_result",
          "data": {
            "text/plain": [
              "          count       mean        std       min         25%        50%  \\\n",
              "lat   9905520.0  36.958333   7.168756   24.5625   30.760417  36.958334   \n",
              "lon   9905520.0 -95.854167  16.658957 -124.6875 -110.270836 -95.854164   \n",
              "prcp  5637096.0  63.483059  64.497482    0.0000   13.599609  44.360352   \n",
              "\n",
              "            75%          max  \n",
              "lat   43.156249    49.354168  \n",
              "lon  -81.437500   -67.020836  \n",
              "prcp  95.849609  1446.299805  "
            ],
            "text/html": [
              "\n",
              "  <div id=\"df-a759bc71-ded3-4a4e-bf6c-dc467579bdf0\" class=\"colab-df-container\">\n",
              "    <div>\n",
              "<style scoped>\n",
              "    .dataframe tbody tr th:only-of-type {\n",
              "        vertical-align: middle;\n",
              "    }\n",
              "\n",
              "    .dataframe tbody tr th {\n",
              "        vertical-align: top;\n",
              "    }\n",
              "\n",
              "    .dataframe thead th {\n",
              "        text-align: right;\n",
              "    }\n",
              "</style>\n",
              "<table border=\"1\" class=\"dataframe\">\n",
              "  <thead>\n",
              "    <tr style=\"text-align: right;\">\n",
              "      <th></th>\n",
              "      <th>count</th>\n",
              "      <th>mean</th>\n",
              "      <th>std</th>\n",
              "      <th>min</th>\n",
              "      <th>25%</th>\n",
              "      <th>50%</th>\n",
              "      <th>75%</th>\n",
              "      <th>max</th>\n",
              "    </tr>\n",
              "  </thead>\n",
              "  <tbody>\n",
              "    <tr>\n",
              "      <th>lat</th>\n",
              "      <td>9905520.0</td>\n",
              "      <td>36.958333</td>\n",
              "      <td>7.168756</td>\n",
              "      <td>24.5625</td>\n",
              "      <td>30.760417</td>\n",
              "      <td>36.958334</td>\n",
              "      <td>43.156249</td>\n",
              "      <td>49.354168</td>\n",
              "    </tr>\n",
              "    <tr>\n",
              "      <th>lon</th>\n",
              "      <td>9905520.0</td>\n",
              "      <td>-95.854167</td>\n",
              "      <td>16.658957</td>\n",
              "      <td>-124.6875</td>\n",
              "      <td>-110.270836</td>\n",
              "      <td>-95.854164</td>\n",
              "      <td>-81.437500</td>\n",
              "      <td>-67.020836</td>\n",
              "    </tr>\n",
              "    <tr>\n",
              "      <th>prcp</th>\n",
              "      <td>5637096.0</td>\n",
              "      <td>63.483059</td>\n",
              "      <td>64.497482</td>\n",
              "      <td>0.0000</td>\n",
              "      <td>13.599609</td>\n",
              "      <td>44.360352</td>\n",
              "      <td>95.849609</td>\n",
              "      <td>1446.299805</td>\n",
              "    </tr>\n",
              "  </tbody>\n",
              "</table>\n",
              "</div>\n",
              "    <div class=\"colab-df-buttons\">\n",
              "\n",
              "  <div class=\"colab-df-container\">\n",
              "    <button class=\"colab-df-convert\" onclick=\"convertToInteractive('df-a759bc71-ded3-4a4e-bf6c-dc467579bdf0')\"\n",
              "            title=\"Convert this dataframe to an interactive table.\"\n",
              "            style=\"display:none;\">\n",
              "\n",
              "  <svg xmlns=\"http://www.w3.org/2000/svg\" height=\"24px\" viewBox=\"0 -960 960 960\">\n",
              "    <path d=\"M120-120v-720h720v720H120Zm60-500h600v-160H180v160Zm220 220h160v-160H400v160Zm0 220h160v-160H400v160ZM180-400h160v-160H180v160Zm440 0h160v-160H620v160ZM180-180h160v-160H180v160Zm440 0h160v-160H620v160Z\"/>\n",
              "  </svg>\n",
              "    </button>\n",
              "\n",
              "  <style>\n",
              "    .colab-df-container {\n",
              "      display:flex;\n",
              "      gap: 12px;\n",
              "    }\n",
              "\n",
              "    .colab-df-convert {\n",
              "      background-color: #E8F0FE;\n",
              "      border: none;\n",
              "      border-radius: 50%;\n",
              "      cursor: pointer;\n",
              "      display: none;\n",
              "      fill: #1967D2;\n",
              "      height: 32px;\n",
              "      padding: 0 0 0 0;\n",
              "      width: 32px;\n",
              "    }\n",
              "\n",
              "    .colab-df-convert:hover {\n",
              "      background-color: #E2EBFA;\n",
              "      box-shadow: 0px 1px 2px rgba(60, 64, 67, 0.3), 0px 1px 3px 1px rgba(60, 64, 67, 0.15);\n",
              "      fill: #174EA6;\n",
              "    }\n",
              "\n",
              "    .colab-df-buttons div {\n",
              "      margin-bottom: 4px;\n",
              "    }\n",
              "\n",
              "    [theme=dark] .colab-df-convert {\n",
              "      background-color: #3B4455;\n",
              "      fill: #D2E3FC;\n",
              "    }\n",
              "\n",
              "    [theme=dark] .colab-df-convert:hover {\n",
              "      background-color: #434B5C;\n",
              "      box-shadow: 0px 1px 3px 1px rgba(0, 0, 0, 0.15);\n",
              "      filter: drop-shadow(0px 1px 2px rgba(0, 0, 0, 0.3));\n",
              "      fill: #FFFFFF;\n",
              "    }\n",
              "  </style>\n",
              "\n",
              "    <script>\n",
              "      const buttonEl =\n",
              "        document.querySelector('#df-a759bc71-ded3-4a4e-bf6c-dc467579bdf0 button.colab-df-convert');\n",
              "      buttonEl.style.display =\n",
              "        google.colab.kernel.accessAllowed ? 'block' : 'none';\n",
              "\n",
              "      async function convertToInteractive(key) {\n",
              "        const element = document.querySelector('#df-a759bc71-ded3-4a4e-bf6c-dc467579bdf0');\n",
              "        const dataTable =\n",
              "          await google.colab.kernel.invokeFunction('convertToInteractive',\n",
              "                                                    [key], {});\n",
              "        if (!dataTable) return;\n",
              "\n",
              "        const docLinkHtml = 'Like what you see? Visit the ' +\n",
              "          '<a target=\"_blank\" href=https://colab.research.google.com/notebooks/data_table.ipynb>data table notebook</a>'\n",
              "          + ' to learn more about interactive tables.';\n",
              "        element.innerHTML = '';\n",
              "        dataTable['output_type'] = 'display_data';\n",
              "        await google.colab.output.renderOutput(dataTable, element);\n",
              "        const docLink = document.createElement('div');\n",
              "        docLink.innerHTML = docLinkHtml;\n",
              "        element.appendChild(docLink);\n",
              "      }\n",
              "    </script>\n",
              "  </div>\n",
              "\n",
              "\n",
              "<div id=\"df-84d1ec7b-0568-434c-9fdb-f45bf47f0c16\">\n",
              "  <button class=\"colab-df-quickchart\" onclick=\"quickchart('df-84d1ec7b-0568-434c-9fdb-f45bf47f0c16')\"\n",
              "            title=\"Suggest charts\"\n",
              "            style=\"display:none;\">\n",
              "\n",
              "<svg xmlns=\"http://www.w3.org/2000/svg\" height=\"24px\"viewBox=\"0 0 24 24\"\n",
              "     width=\"24px\">\n",
              "    <g>\n",
              "        <path d=\"M19 3H5c-1.1 0-2 .9-2 2v14c0 1.1.9 2 2 2h14c1.1 0 2-.9 2-2V5c0-1.1-.9-2-2-2zM9 17H7v-7h2v7zm4 0h-2V7h2v10zm4 0h-2v-4h2v4z\"/>\n",
              "    </g>\n",
              "</svg>\n",
              "  </button>\n",
              "\n",
              "<style>\n",
              "  .colab-df-quickchart {\n",
              "      --bg-color: #E8F0FE;\n",
              "      --fill-color: #1967D2;\n",
              "      --hover-bg-color: #E2EBFA;\n",
              "      --hover-fill-color: #174EA6;\n",
              "      --disabled-fill-color: #AAA;\n",
              "      --disabled-bg-color: #DDD;\n",
              "  }\n",
              "\n",
              "  [theme=dark] .colab-df-quickchart {\n",
              "      --bg-color: #3B4455;\n",
              "      --fill-color: #D2E3FC;\n",
              "      --hover-bg-color: #434B5C;\n",
              "      --hover-fill-color: #FFFFFF;\n",
              "      --disabled-bg-color: #3B4455;\n",
              "      --disabled-fill-color: #666;\n",
              "  }\n",
              "\n",
              "  .colab-df-quickchart {\n",
              "    background-color: var(--bg-color);\n",
              "    border: none;\n",
              "    border-radius: 50%;\n",
              "    cursor: pointer;\n",
              "    display: none;\n",
              "    fill: var(--fill-color);\n",
              "    height: 32px;\n",
              "    padding: 0;\n",
              "    width: 32px;\n",
              "  }\n",
              "\n",
              "  .colab-df-quickchart:hover {\n",
              "    background-color: var(--hover-bg-color);\n",
              "    box-shadow: 0 1px 2px rgba(60, 64, 67, 0.3), 0 1px 3px 1px rgba(60, 64, 67, 0.15);\n",
              "    fill: var(--button-hover-fill-color);\n",
              "  }\n",
              "\n",
              "  .colab-df-quickchart-complete:disabled,\n",
              "  .colab-df-quickchart-complete:disabled:hover {\n",
              "    background-color: var(--disabled-bg-color);\n",
              "    fill: var(--disabled-fill-color);\n",
              "    box-shadow: none;\n",
              "  }\n",
              "\n",
              "  .colab-df-spinner {\n",
              "    border: 2px solid var(--fill-color);\n",
              "    border-color: transparent;\n",
              "    border-bottom-color: var(--fill-color);\n",
              "    animation:\n",
              "      spin 1s steps(1) infinite;\n",
              "  }\n",
              "\n",
              "  @keyframes spin {\n",
              "    0% {\n",
              "      border-color: transparent;\n",
              "      border-bottom-color: var(--fill-color);\n",
              "      border-left-color: var(--fill-color);\n",
              "    }\n",
              "    20% {\n",
              "      border-color: transparent;\n",
              "      border-left-color: var(--fill-color);\n",
              "      border-top-color: var(--fill-color);\n",
              "    }\n",
              "    30% {\n",
              "      border-color: transparent;\n",
              "      border-left-color: var(--fill-color);\n",
              "      border-top-color: var(--fill-color);\n",
              "      border-right-color: var(--fill-color);\n",
              "    }\n",
              "    40% {\n",
              "      border-color: transparent;\n",
              "      border-right-color: var(--fill-color);\n",
              "      border-top-color: var(--fill-color);\n",
              "    }\n",
              "    60% {\n",
              "      border-color: transparent;\n",
              "      border-right-color: var(--fill-color);\n",
              "    }\n",
              "    80% {\n",
              "      border-color: transparent;\n",
              "      border-right-color: var(--fill-color);\n",
              "      border-bottom-color: var(--fill-color);\n",
              "    }\n",
              "    90% {\n",
              "      border-color: transparent;\n",
              "      border-bottom-color: var(--fill-color);\n",
              "    }\n",
              "  }\n",
              "</style>\n",
              "\n",
              "  <script>\n",
              "    async function quickchart(key) {\n",
              "      const quickchartButtonEl =\n",
              "        document.querySelector('#' + key + ' button');\n",
              "      quickchartButtonEl.disabled = true;  // To prevent multiple clicks.\n",
              "      quickchartButtonEl.classList.add('colab-df-spinner');\n",
              "      try {\n",
              "        const charts = await google.colab.kernel.invokeFunction(\n",
              "            'suggestCharts', [key], {});\n",
              "      } catch (error) {\n",
              "        console.error('Error during call to suggestCharts:', error);\n",
              "      }\n",
              "      quickchartButtonEl.classList.remove('colab-df-spinner');\n",
              "      quickchartButtonEl.classList.add('colab-df-quickchart-complete');\n",
              "    }\n",
              "    (() => {\n",
              "      let quickchartButtonEl =\n",
              "        document.querySelector('#df-84d1ec7b-0568-434c-9fdb-f45bf47f0c16 button');\n",
              "      quickchartButtonEl.style.display =\n",
              "        google.colab.kernel.accessAllowed ? 'block' : 'none';\n",
              "    })();\n",
              "  </script>\n",
              "</div>\n",
              "    </div>\n",
              "  </div>\n"
            ]
          },
          "metadata": {},
          "execution_count": 22
        }
      ]
    }
  ]
}